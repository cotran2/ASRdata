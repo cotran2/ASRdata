{
 "cells": [
  {
   "cell_type": "code",
   "execution_count": 20,
   "metadata": {},
   "outputs": [],
   "source": [
    "#!/usr/bin/env python\n",
    "import pandas as pd\n",
    "from python_speech_features import mfcc\n",
    "from python_speech_features import delta\n",
    "from python_speech_features import logfbank\n",
    "import scipy.io.wavfile as wav\n",
    "import glob\n",
    "import scipy.io\n",
    "import librosa\n",
    "import numpy as np"
   ]
  },
  {
   "cell_type": "code",
   "execution_count": 34,
   "metadata": {},
   "outputs": [],
   "source": [
    "def average(data,window_size):\n",
    "    df = pd.DataFrame()\n",
    "    for i in range(int(len(data)/window_size)):\n",
    "        dt = np.array(data[i*window_size:(i+1)*window_size])\n",
    "        window = np.ones((window_size,))/float(window_size)\n",
    "        dt = pd.DataFrame(np.convolve(dt, window,mode='valid'))\n",
    "        df = pd.concat([df,dt])\n",
    "    return df"
   ]
  },
  {
   "cell_type": "code",
   "execution_count": 35,
   "metadata": {},
   "outputs": [],
   "source": [
    "def root_mean_square(data,window_size):\n",
    "    df = pd.DataFrame()\n",
    "    for i in range(int(len(data)/window_size)):\n",
    "        dt = np.power(data[i*window_size:(i+1)*window_size],2)\n",
    "        window = np.ones((window_size,))/float(window_size)\n",
    "        dt = pd.DataFrame(np.sqrt(np.convolve(dt, window,mode='valid')))\n",
    "        df = pd.concat([df,dt])\n",
    "    return df"
   ]
  },
  {
   "cell_type": "code",
   "execution_count": 24,
   "metadata": {},
   "outputs": [],
   "source": [
    "#MFCC_Proccessing\n",
    "path ='/home/guatam-admin/Vijay_BCI/Data-Mason-1/Audio wav files' # use your path\n",
    "allFiles = glob.glob(path + \"/*.wav\")\n",
    "for file_ in allFiles:\n",
    "    (rate,sig) = wav.read(file_)\n",
    "    mfcc_feat = mfcc(sig,rate,winstep=0.01)\n",
    "    mfcc_feat = pd.DataFrame(mfcc_feat)\n",
    "    mfcc_feat.to_csv(file_[:-4]+'.csv',index= False)"
   ]
  },
  {
   "cell_type": "code",
   "execution_count": 25,
   "metadata": {},
   "outputs": [],
   "source": [
    "#Convert .mat to .csv\n",
    "path ='/home/guatam-admin/Vijay_BCI/Data-Mason-1/EEG .mat files' # use your path\n",
    "allFiles = glob.glob(path + \"/*.mat\")\n",
    "for file_ in allFiles:\n",
    "    mat = scipy.io.loadmat(file_)\n",
    "    mat = {k:v for k, v in mat.items() if k[0] != '_'}\n",
    "    names = list(mat.keys())\n",
    "    df = pd.DataFrame()\n",
    "    for key in names[:-8]:\n",
    "        value = mat[key]\n",
    "        value = pd.DataFrame(value)\n",
    "        df = pd.merge(df,value,how='right',right_index=True,left_index=True)\n",
    "    df.columns = names[:-8]\n",
    "    df.to_csv(file_[:-4]+'.csv',index=False)"
   ]
  },
  {
   "cell_type": "code",
   "execution_count": 32,
   "metadata": {},
   "outputs": [],
   "source": [
    "#Zero_crossing_rate\n",
    "path ='/home/guatam-admin/Vijay_BCI/Data-Mason-1/EEG .csv files' # use your path\n",
    "allFiles = glob.glob(path + \"/*.csv\")\n",
    "for file_ in allFiles:\n",
    "    df = pd.read_csv(file_)\n",
    "    df_zero = pd.DataFrame()\n",
    "    for name in df.columns:\n",
    "        zero = librosa.feature.zero_crossing_rate(df[name].values,frame_length=10,hop_length=10)\n",
    "        zero = pd.DataFrame(np.transpose(zero))\n",
    "        df_zero = pd.merge(df_zero,zero,how='right',right_index=True,left_index=True)\n",
    "    df_zero.columns = df.columns\n",
    "    df_zero = df_zero*100\n",
    "    df_zero.to_csv(file_[:-4]+'_zero.csv',index=False)"
   ]
  },
  {
   "cell_type": "code",
   "execution_count": null,
   "metadata": {},
   "outputs": [],
   "source": [
    "#Average\n",
    "#Do for each file\n",
    "path ='/home/guatam-admin/Vijay_BCI/Data-Mason-1/EEG .csv files/Mason-filters-e.csv' # use your path\n",
    "df_avg = pd.DataFrame()\n",
    "for name in df.columns:\n",
    "    avg = average(df[name].values,window_size=10)\n",
    "    #rms = pd.DataFrame(np.transpose(zero))\n",
    "    df_avg = pd.concat([df_avg,avg],axis=1)\n",
    "df_avg.columns = df.columns\n",
    "#df_rms = df_zero*100\n",
    "df_avg.to_csv('/home/guatam-admin/Vijay_BCI/Data-Mason-1/EEG_average/Mason-e-avg.csv',index=False)"
   ]
  },
  {
   "cell_type": "code",
   "execution_count": 9,
   "metadata": {},
   "outputs": [],
   "source": [
    "#Root_mean_square\n",
    "#Do for each file\n",
    "path ='/home/guatam-admin/Vijay_BCI/Data-Mason-1/EEG .csv files' # use your path\n",
    "df_rms = pd.DataFrame()\n",
    "for name in df.columns:\n",
    "    rms = root_mean_square(df[name].values,window_size=100)\n",
    "    #rms = pd.DataFrame(np.transpose(zero))\n",
    "    df_rms = pd.concat([df_rms,rms],axis=1)\n",
    "df_rms.columns = df.columns\n",
    "#df_rms = df_zero*100\n",
    "df_rms.to_csv('/home/guatam-admin/Vijay_BCI/Data/data-u_rms.csv',index=False)"
   ]
  },
  {
   "cell_type": "code",
   "execution_count": null,
   "metadata": {},
   "outputs": [],
   "source": [
    "#Trimmming - get the lengths of audio files\n",
    "path ='/home/guatam-admin/Vijay_BCI/Data/Audio_csv' # use your path\n",
    "allFiles = glob.glob(path + \"/*.csv\")\n",
    "length = []\n",
    "for file_ in allFiles:\n",
    "    length.append(len(pd.read_csv(file_)))"
   ]
  },
  {
   "cell_type": "code",
   "execution_count": null,
   "metadata": {},
   "outputs": [],
   "source": [
    "#Matching the length with the .csv files\n",
    "#Do for each file\n",
    "path_ ='/home/guatam-admin/Vijay_BCI/Data/Average' # use your path\n",
    "allFiles_ = glob.glob(path_ + \"/*.csv\")\n",
    "for file_ in allFiles_:\n",
    "    for file in allFiles:\n",
    "        if(file[-5]==file_[-5]):\n",
    "            df = pd.read_csv(file_)\n",
    "            df = df[(len(df)-len(pd.read_csv(file))):len(df)]\n",
    "            df.to_csv(file_[:-4]+'_trimmed.csv',index= False)\n",
    "    #print(i,file_)"
   ]
  }
 ],
 "metadata": {
  "kernelspec": {
   "display_name": "Python 3",
   "language": "python",
   "name": "python3"
  },
  "language_info": {
   "codemirror_mode": {
    "name": "ipython",
    "version": 3
   },
   "file_extension": ".py",
   "mimetype": "text/x-python",
   "name": "python",
   "nbconvert_exporter": "python",
   "pygments_lexer": "ipython3",
   "version": "3.6.4"
  }
 },
 "nbformat": 4,
 "nbformat_minor": 2
}
