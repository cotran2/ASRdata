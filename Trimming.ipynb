{
 "cells": [
  {
   "cell_type": "code",
   "execution_count": 1,
   "metadata": {},
   "outputs": [],
   "source": [
    "import pandas as pd\n",
    "from python_speech_features import mfcc\n",
    "from python_speech_features import delta\n",
    "from python_speech_features import logfbank\n",
    "import scipy.io.wavfile as wav\n",
    "import glob\n",
    "import scipy.io\n",
    "import librosa\n",
    "import numpy as np"
   ]
  },
  {
   "cell_type": "code",
   "execution_count": 26,
   "metadata": {},
   "outputs": [],
   "source": [
    "path ='/home/guatam-admin/Vijay_BCI/Data/Audio_csv' # use your path\n",
    "allFiles = glob.glob(path + \"/*.csv\")\n",
    "length = []\n",
    "for file_ in allFiles:\n",
    "    length.append(len(pd.read_csv(file_)))"
   ]
  },
  {
   "cell_type": "code",
   "execution_count": 45,
   "metadata": {},
   "outputs": [],
   "source": [
    "path_ ='/home/guatam-admin/Vijay_BCI/Data/Average' # use your path\n",
    "allFiles_ = glob.glob(path_ + \"/*.csv\")\n",
    "for file_ in allFiles_:\n",
    "    for file in allFiles:\n",
    "        if(file[-5]==file_[-5]):\n",
    "            df = pd.read_csv(file_)\n",
    "            df = df[(len(df)-len(pd.read_csv(file))):len(df)]\n",
    "            df.to_csv(file_[:-4]+'_trimmed.csv',index= False)\n",
    "    #print(i,file_)"
   ]
  },
  {
   "cell_type": "code",
   "execution_count": 29,
   "metadata": {},
   "outputs": [
    {
     "data": {
      "text/plain": [
       "['/home/guatam-admin/Vijay_BCI/Data/Audio_csv/oc_i.csv',\n",
       " '/home/guatam-admin/Vijay_BCI/Data/Audio_csv/oc_u.csv',\n",
       " '/home/guatam-admin/Vijay_BCI/Data/Audio_csv/oc_o.csv',\n",
       " '/home/guatam-admin/Vijay_BCI/Data/Audio_csv/oc_a.csv',\n",
       " '/home/guatam-admin/Vijay_BCI/Data/Audio_csv/oc_e.csv']"
      ]
     },
     "execution_count": 29,
     "metadata": {},
     "output_type": "execute_result"
    }
   ],
   "source": [
    "allFiles"
   ]
  },
  {
   "cell_type": "code",
   "execution_count": null,
   "metadata": {},
   "outputs": [],
   "source": [
    "df = pd.read_csv(file_)\n",
    "df = df[:-i]\n",
    "df.to_csv(file_+'trimmed',index= False)"
   ]
  }
 ],
 "metadata": {
  "kernelspec": {
   "display_name": "Python 3",
   "language": "python",
   "name": "python3"
  },
  "language_info": {
   "codemirror_mode": {
    "name": "ipython",
    "version": 3
   },
   "file_extension": ".py",
   "mimetype": "text/x-python",
   "name": "python",
   "nbconvert_exporter": "python",
   "pygments_lexer": "ipython3",
   "version": "3.6.4"
  }
 },
 "nbformat": 4,
 "nbformat_minor": 2
}
